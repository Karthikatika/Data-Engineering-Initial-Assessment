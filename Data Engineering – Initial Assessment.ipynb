{
 "cells": [
  {
   "cell_type": "markdown",
   "id": "326b4a06",
   "metadata": {},
   "source": [
    "7.Pattern printing"
   ]
  },
  {
   "cell_type": "code",
   "execution_count": 1,
   "id": "d8726aaf",
   "metadata": {},
   "outputs": [
    {
     "name": "stdout",
     "output_type": "stream",
     "text": [
      "5 4 3 2 1 1 2 3 4 5 \n",
      "\n",
      "5 4 3 2     2 3 4 5 \n",
      "\n",
      "5 4 3         3 4 5 \n",
      "\n",
      "5 4             4 5 \n",
      "\n",
      "5                 5 \n",
      "\n",
      "                    \n",
      "\n"
     ]
    }
   ],
   "source": [
    "rows = 6\n",
    "for i in range(0, rows):\n",
    "    for j in range(rows - 1, i, -1):\n",
    "        print(j, '', end='')\n",
    "    for l in range(i):\n",
    "        print('    ', end='')\n",
    "    for k in range(i + 1, rows):\n",
    "        print(k, '', end='')\n",
    "    print('\\n')"
   ]
  },
  {
   "cell_type": "markdown",
   "id": "37e8a7e8",
   "metadata": {},
   "source": [
    "9.pattren printing"
   ]
  },
  {
   "cell_type": "code",
   "execution_count": 6,
   "id": "8a27d823",
   "metadata": {},
   "outputs": [
    {
     "name": "stdout",
     "output_type": "stream",
     "text": [
      "* \r\n",
      "* * \r\n",
      "* * * \r\n",
      "* * * * \r\n",
      "* * * * * \r\n",
      "* * * * *  \n",
      "* * * *  \n",
      "* * *  \n",
      "* *  \n",
      "*  \n",
      " \n"
     ]
    }
   ],
   "source": [
    "rows = 5\n",
    "for i in range(0, rows):\n",
    "    # nested loop for each column\n",
    "    for j in range(0, i + 1):\n",
    "        # print star\n",
    "        print(\"*\", end=' ')\n",
    "    # new line after each row\n",
    "    print(\"\\r\")\n",
    "rows = 5\n",
    "for i in range(rows + 1, 0, -1):\n",
    "    # nested reverse loop\n",
    "    for j in range(0, i - 1):\n",
    "        # display star\n",
    "        print(\"*\", end=' ')\n",
    "    print(\" \")"
   ]
  },
  {
   "cell_type": "code",
   "execution_count": null,
   "id": "c8645727",
   "metadata": {},
   "outputs": [],
   "source": [
    "8.Pattern printing"
   ]
  },
  {
   "cell_type": "code",
   "execution_count": 7,
   "id": "e1801958",
   "metadata": {},
   "outputs": [
    {
     "name": "stdout",
     "output_type": "stream",
     "text": [
      "        1 \n",
      "      1 2 \n",
      "    1 2 3 \n",
      "  1 2 3 4 \n"
     ]
    }
   ],
   "source": [
    "rows = 5\n",
    "for i in range(1, rows):\n",
    "    num = 1\n",
    "    for j in range(rows, 0, -1):\n",
    "        if j > i:\n",
    "            print(\" \", end=' ')\n",
    "        else:\n",
    "            print(num, end=' ')\n",
    "            num += 1\n",
    "    print(\"\")"
   ]
  },
  {
   "cell_type": "code",
   "execution_count": null,
   "id": "9eb1f1fa",
   "metadata": {},
   "outputs": [],
   "source": []
  }
 ],
 "metadata": {
  "kernelspec": {
   "display_name": "Python 3 (ipykernel)",
   "language": "python",
   "name": "python3"
  },
  "language_info": {
   "codemirror_mode": {
    "name": "ipython",
    "version": 3
   },
   "file_extension": ".py",
   "mimetype": "text/x-python",
   "name": "python",
   "nbconvert_exporter": "python",
   "pygments_lexer": "ipython3",
   "version": "3.9.7"
  }
 },
 "nbformat": 4,
 "nbformat_minor": 5
}
